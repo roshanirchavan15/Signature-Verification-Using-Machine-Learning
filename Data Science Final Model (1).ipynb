{
 "cells": [
  {
   "cell_type": "code",
   "execution_count": 23,
   "id": "9b9e3649",
   "metadata": {},
   "outputs": [],
   "source": [
    "import numpy as np\n",
    "import os\n",
    "from tensorflow.keras.preprocessing.image import load_img, img_to_array\n",
    "from tensorflow.keras.models import Sequential\n",
    "from tensorflow.keras.layers import Conv2D, MaxPooling2D, Flatten, Dense, Dropout\n",
    "from sklearn.model_selection import train_test_split"
   ]
  },
  {
   "cell_type": "code",
   "execution_count": 24,
   "id": "7fac98d6",
   "metadata": {},
   "outputs": [],
   "source": [
    "def load_images_from_folder(folder_path, target_size=(64, 64)):\n",
    "    images = []\n",
    "    labels = []\n",
    "    label_mapping = {}  # Mapping from person names to numeric labels\n",
    "    label_counter = 0\n",
    "\n",
    "    for person_folder in os.listdir(folder_path):\n",
    "        person_path = os.path.join(folder_path, person_folder)\n",
    "\n",
    "        if os.path.isdir(person_path):\n",
    "            label_mapping[person_folder] = label_counter\n",
    "            label_counter += 1\n",
    "\n",
    "            for filename in os.listdir(person_path):\n",
    "                img_path = os.path.join(person_path, filename)\n",
    "                img = load_img(img_path, target_size=target_size, color_mode='grayscale')\n",
    "                img = img_to_array(img) / 255.0\n",
    "                images.append(img)\n",
    "                labels.append(label_mapping[person_folder])\n",
    "\n",
    "    return np.array(images), np.array(labels), label_mapping"
   ]
  },
  {
   "cell_type": "code",
   "execution_count": 25,
   "id": "2041f137",
   "metadata": {},
   "outputs": [],
   "source": [
    "main_folder_path = r\"C:\\Users\\Arnold\\Downloads\\Final Data Set\"\n",
    "X, y, label_mapping = load_images_from_folder(main_folder_path)"
   ]
  },
  {
   "cell_type": "code",
   "execution_count": 26,
   "id": "c40e2de4",
   "metadata": {},
   "outputs": [],
   "source": [
    "CNNmodel = Sequential([\n",
    "    Conv2D(32, (3, 3), activation='relu', input_shape=(64, 64, 1)),\n",
    "    MaxPooling2D(2, 2),\n",
    "    Conv2D(64, (3, 3), activation='relu'),\n",
    "    MaxPooling2D(2, 2),\n",
    "    Flatten(),\n",
    "    Dense(128, activation='relu'),\n",
    "    Dropout(0.5),\n",
    "    Dense(9, activation='softmax')  # Assuming 9 individuals\n",
    "])"
   ]
  },
  {
   "cell_type": "code",
   "execution_count": 27,
   "id": "8cc008ad",
   "metadata": {},
   "outputs": [],
   "source": [
    "CNNmodel.compile(optimizer='adam', loss='sparse_categorical_crossentropy', metrics=['accuracy'])"
   ]
  },
  {
   "cell_type": "code",
   "execution_count": 28,
   "id": "f0dedae9",
   "metadata": {},
   "outputs": [
    {
     "name": "stdout",
     "output_type": "stream",
     "text": [
      "Epoch 1/10\n",
      "220/220 [==============================] - 12s 50ms/step - loss: 1.7510 - accuracy: 0.3518\n",
      "Epoch 2/10\n",
      "220/220 [==============================] - 12s 52ms/step - loss: 1.0311 - accuracy: 0.6438\n",
      "Epoch 3/10\n",
      "220/220 [==============================] - 12s 55ms/step - loss: 0.7653 - accuracy: 0.7341\n",
      "Epoch 4/10\n",
      "220/220 [==============================] - 11s 50ms/step - loss: 0.6112 - accuracy: 0.7926\n",
      "Epoch 5/10\n",
      "220/220 [==============================] - 11s 51ms/step - loss: 0.5241 - accuracy: 0.8202\n",
      "Epoch 6/10\n",
      "220/220 [==============================] - 13s 58ms/step - loss: 0.4504 - accuracy: 0.8501\n",
      "Epoch 7/10\n",
      "220/220 [==============================] - 13s 57ms/step - loss: 0.4036 - accuracy: 0.8618\n",
      "Epoch 8/10\n",
      "220/220 [==============================] - 13s 58ms/step - loss: 0.3489 - accuracy: 0.8793\n",
      "Epoch 9/10\n",
      "220/220 [==============================] - 14s 63ms/step - loss: 0.3122 - accuracy: 0.8908\n",
      "Epoch 10/10\n",
      "220/220 [==============================] - 13s 58ms/step - loss: 0.2728 - accuracy: 0.9050\n"
     ]
    },
    {
     "data": {
      "text/plain": [
       "<keras.src.callbacks.History at 0x1bc31e384d0>"
      ]
     },
     "execution_count": 28,
     "metadata": {},
     "output_type": "execute_result"
    }
   ],
   "source": [
    "CNNmodel.fit(X, y, epochs=10, batch_size=32)"
   ]
  },
  {
   "cell_type": "code",
   "execution_count": 60,
   "id": "dc8bec07",
   "metadata": {},
   "outputs": [],
   "source": [
    "model_save_path = r\"C:\\Users\\Arnold\\Saved_Models\\signature_model.h5\"\n",
    "CNNmodel.save(model_save_path)"
   ]
  },
  {
   "cell_type": "code",
   "execution_count": 61,
   "id": "668423bc",
   "metadata": {},
   "outputs": [],
   "source": [
    "from tensorflow.keras.models import load_model\n",
    "\n",
    "# Load the model\n",
    "model = load_model(model_save_path)"
   ]
  },
  {
   "cell_type": "code",
   "execution_count": 68,
   "id": "7bf29037",
   "metadata": {},
   "outputs": [],
   "source": [
    "# Function to load test images (using your image loading approach)\n",
    "def load_test_images(folder_path, target_size=(64, 64)):\n",
    "    test_images = []\n",
    "    filenames = []\n",
    "\n",
    "    for filename in os.listdir(folder_path):\n",
    "        img_path = os.path.join(folder_path, filename)\n",
    "        img = load_img(img_path, target_size=target_size, color_mode='grayscale')\n",
    "        img = img_to_array(img) / 255.0\n",
    "        test_images.append(img)\n",
    "        filenames.append(filename)\n",
    "\n",
    "    return np.array(test_images), filenames"
   ]
  },
  {
   "cell_type": "code",
   "execution_count": 77,
   "id": "2391980e",
   "metadata": {},
   "outputs": [],
   "source": [
    "# Load test images\n",
    "test_folder_path = r\"C:\\Users\\Arnold\\OneDrive\\Desktop\\TESTDATA\"\n",
    "X_test, test_filenames = load_test_images(test_folder_path)"
   ]
  },
  {
   "cell_type": "code",
   "execution_count": 78,
   "id": "e20d2a27",
   "metadata": {},
   "outputs": [
    {
     "name": "stdout",
     "output_type": "stream",
     "text": [
      "1/1 [==============================] - 0s 219ms/step\n"
     ]
    }
   ],
   "source": [
    "predictions = model.predict(X_test)"
   ]
  },
  {
   "cell_type": "code",
   "execution_count": 79,
   "id": "d6159642",
   "metadata": {},
   "outputs": [
    {
     "name": "stdout",
     "output_type": "stream",
     "text": [
      "The signature in augmented_signature_16.jpg belongs to khadija.\n",
      "The signature in sign1_333.jpg belongs to Prerna.\n",
      "The signature in sign1_383.jpg belongs to khadija.\n",
      "The signature in sign1_731.jpg belongs to Parita.\n",
      "The signature in sign1_752.jpg belongs to Indu.\n",
      "The signature in sign1_754.jpg is of a new person.\n",
      "The signature in sign1_758.jpg belongs to Ajm.\n",
      "The signature in sign1_778.jpg belongs to Anurag.\n",
      "The signature in sign1_82.jpg belongs to Mayur.\n"
     ]
    }
   ],
   "source": [
    "threshold = 0.6  # Set a threshold for minimum confidence\n",
    "\n",
    "for i, pred in enumerate(predictions):\n",
    "    if max(pred) < threshold:\n",
    "        print(f\"The signature in {test_filenames[i]} is of a new person.\")\n",
    "    else:\n",
    "        predicted_label = np.argmax(pred)\n",
    "        person_name = [name for name, label in label_mapping.items() if label == predicted_label][0]\n",
    "        print(f\"The signature in {test_filenames[i]} belongs to {person_name}.\")"
   ]
  },
  {
   "cell_type": "code",
   "execution_count": null,
   "id": "31f10ccf",
   "metadata": {},
   "outputs": [],
   "source": []
  }
 ],
 "metadata": {
  "kernelspec": {
   "display_name": "Python 3 (ipykernel)",
   "language": "python",
   "name": "python3"
  },
  "language_info": {
   "codemirror_mode": {
    "name": "ipython",
    "version": 3
   },
   "file_extension": ".py",
   "mimetype": "text/x-python",
   "name": "python",
   "nbconvert_exporter": "python",
   "pygments_lexer": "ipython3",
   "version": "3.11.5"
  }
 },
 "nbformat": 4,
 "nbformat_minor": 5
}
