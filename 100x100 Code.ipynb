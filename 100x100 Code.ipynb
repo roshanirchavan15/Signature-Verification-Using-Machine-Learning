{
 "cells": [
  {
   "cell_type": "code",
   "execution_count": 48,
   "id": "76ab70e8",
   "metadata": {},
   "outputs": [
    {
     "name": "stdout",
     "output_type": "stream",
     "text": [
      "Resized images have been generated and saved in 'resized_images.zip'.\n"
     ]
    }
   ],
   "source": [
    "from PIL import Image\n",
    "import os\n",
    "import zipfile\n",
    "\n",
    "# Define the input folder where all images are located\n",
    "input_folder = \"C:/Users/Prerna/Desktop/chatgpt Files\"\n",
    "\n",
    "# Ensure the output folder exists\n",
    "os.makedirs('output_images', exist_ok=True)\n",
    "\n",
    "# List all files in the input folder\n",
    "input_files = os.listdir(input_folder)\n",
    "\n",
    "# Define the desired size\n",
    "desired_size = (100, 100)\n",
    "\n",
    "# Create a list to store resized images\n",
    "resized_images = []\n",
    "\n",
    "# Resize the images\n",
    "for input_file in input_files:\n",
    "    # Construct the full path to the input image\n",
    "    input_path = os.path.join(input_folder, input_file)\n",
    "    with Image.open(input_path) as img:\n",
    "        # Resize the image\n",
    "        img = img.resize(desired_size, Image.ANTIALIAS)\n",
    "        # Append the resized image to the list\n",
    "        resized_images.append(img)\n",
    "\n",
    "# Create a zip file to store the resized images\n",
    "with zipfile.ZipFile('resized_images.zip', 'w', zipfile.ZIP_DEFLATED) as zipf:\n",
    "    # Write the resized images to the zip file\n",
    "    for i, img in enumerate(resized_images):\n",
    "        # Define a file name for the resized image\n",
    "        resized_file_name = f'resized_image_{i}.jpg'\n",
    "        # Save the resized image to a temporary file\n",
    "        img.save(resized_file_name)\n",
    "        # Add the temporary file to the zip file\n",
    "        zipf.write(resized_file_name)\n",
    "        # Remove the temporary file\n",
    "        os.remove(resized_file_name)\n",
    "\n",
    "print(\"Resized images have been generated and saved in 'resized_images.zip'.\")\n"
   ]
  },
  {
   "cell_type": "code",
   "execution_count": 49,
   "id": "adc93b42",
   "metadata": {},
   "outputs": [
    {
     "ename": "NameError",
     "evalue": "name 'subfolder_path' is not defined",
     "output_type": "error",
     "traceback": [
      "\u001b[1;31m---------------------------------------------------------------------------\u001b[0m",
      "\u001b[1;31mNameError\u001b[0m                                 Traceback (most recent call last)",
      "\u001b[1;32m~\\AppData\\Local\\Temp/ipykernel_17156/656956813.py\u001b[0m in \u001b[0;36m<module>\u001b[1;34m\u001b[0m\n\u001b[0;32m     48\u001b[0m \u001b[1;33m\u001b[0m\u001b[0m\n\u001b[0;32m     49\u001b[0m \u001b[1;31m# Test the augmentation function on a sample image\u001b[0m\u001b[1;33m\u001b[0m\u001b[1;33m\u001b[0m\u001b[0m\n\u001b[1;32m---> 50\u001b[1;33m \u001b[0msample_image_path\u001b[0m \u001b[1;33m=\u001b[0m \u001b[0mos\u001b[0m\u001b[1;33m.\u001b[0m\u001b[0mpath\u001b[0m\u001b[1;33m.\u001b[0m\u001b[0mjoin\u001b[0m\u001b[1;33m(\u001b[0m\u001b[0msubfolder_path\u001b[0m\u001b[1;33m,\u001b[0m \u001b[1;34m'Sign_1'\u001b[0m\u001b[1;33m,\u001b[0m \u001b[1;34m'Sign1_1.jpg'\u001b[0m\u001b[1;33m)\u001b[0m\u001b[1;33m\u001b[0m\u001b[1;33m\u001b[0m\u001b[0m\n\u001b[0m\u001b[0;32m     51\u001b[0m \u001b[0maugmented_image\u001b[0m \u001b[1;33m=\u001b[0m \u001b[0maugment_image\u001b[0m\u001b[1;33m(\u001b[0m\u001b[0msample_image_path\u001b[0m\u001b[1;33m)\u001b[0m\u001b[1;33m\u001b[0m\u001b[1;33m\u001b[0m\u001b[0m\n\u001b[0;32m     52\u001b[0m \u001b[1;33m\u001b[0m\u001b[0m\n",
      "\u001b[1;31mNameError\u001b[0m: name 'subfolder_path' is not defined"
     ]
    }
   ],
   "source": [
    "import cv2\n",
    "import numpy as np\n",
    "from PIL import Image, ImageEnhance\n",
    "import random\n",
    "import io\n",
    "\n",
    "def augment_image(image_path):\n",
    "    # Read the image\n",
    "    original_image = cv2.imread(image_path, cv2.IMREAD_UNCHANGED)\n",
    "\n",
    "    # Apply random noise\n",
    "    noise_factor = random.uniform(0.001, 0.01)\n",
    "    noisy_image = original_image + noise_factor * np.random.normal(\n",
    "        loc=0.0, scale=255.0, size=original_image.shape\n",
    "    )\n",
    "    noisy_image = np.clip(noisy_image, 0, 255).astype(np.uint8)\n",
    "\n",
    "    # Resize the image randomly\n",
    "    scale_factor = random.uniform(0.5, 1.5)\n",
    "    new_size = (\n",
    "        int(original_image.shape[1] * scale_factor),\n",
    "        int(original_image.shape[0] * scale_factor)\n",
    "    )\n",
    "    resized_image = cv2.resize(noisy_image, new_size, interpolation=cv2.INTER_AREA)\n",
    "\n",
    "    # Apply a random filter (blur)\n",
    "    if random.choice([True, False]):\n",
    "        filter_size = random.choice([3, 5])\n",
    "        blurred_image = cv2.GaussianBlur(resized_image, (filter_size, filter_size), 0)\n",
    "    else:\n",
    "        blurred_image = resized_image\n",
    "\n",
    "    # Convert to PIL Image for further augmentations\n",
    "    pil_image = Image.fromarray(cv2.cvtColor(blurred_image, cv2.COLOR_BGR2RGB))\n",
    "\n",
    "    # Randomly adjust color\n",
    "    enhancer = ImageEnhance.Color(pil_image)\n",
    "    pil_image = enhancer.enhance(random.uniform(0.5, 1.5))\n",
    "\n",
    "    # Random flip\n",
    "    if random.choice([True, False]):\n",
    "        pil_image = pil_image.transpose(Image.FLIP_LEFT_RIGHT)\n",
    "\n",
    "    # Convert back to OpenCV format\n",
    "    final_image = cv2.cvtColor(np.array(pil_image), cv2.COLOR_RGB2BGR)\n",
    "\n",
    "    return final_image\n",
    "\n",
    "# Test the augmentation function on a sample image\n",
    "sample_image_path = os.path.join(subfolder_path, 'Sign_1', 'Sign1_1.jpg')\n",
    "augmented_image = augment_image(sample_image_path)\n",
    "\n",
    "# Convert the image to bytes for display\n",
    "is_success, buffer = cv2.imencode(\".jpg\", augmented_image)\n",
    "io_buf = io.BytesIO(buffer)\n",
    "\n",
    "# Display the original and augmented image\n",
    "io_buf.seek(0)\n",
    "io_buf.getvalue()[:100]  # Displaying first 100 bytes of the augmented image for confirmation\n"
   ]
  },
  {
   "cell_type": "code",
   "execution_count": 55,
   "id": "67b5e30b",
   "metadata": {},
   "outputs": [
    {
     "name": "stdout",
     "output_type": "stream",
     "text": [
      "Augmented images saved in C:/Users/Prerna/Desktop/Sign_1_Aug\n"
     ]
    }
   ],
   "source": [
    "import shutil\n",
    "\n",
    "def augment_dataset(dataset_path, output_path):\n",
    "    \"\"\"\n",
    "    Augment all images in the dataset and save them in the output folder.\n",
    "    \"\"\"\n",
    "    # Create the output directory if it doesn't exist\n",
    "    if not os.path.exists(output_path):\n",
    "        os.makedirs(output_path)\n",
    "\n",
    "    # Loop through each subfolder in the dataset\n",
    "    for folder in os.listdir(dataset_path):\n",
    "        folder_path = os.path.join(dataset_path, folder)\n",
    "        \n",
    "        # Process only if it's a directory\n",
    "        if os.path.isdir(folder_path):\n",
    "            for image_file in os.listdir(folder_path):\n",
    "                image_path = os.path.join(folder_path, image_file)\n",
    "                \n",
    "                # Check if the file is an image\n",
    "                if image_file.lower().endswith(('.png', '.jpg', '.jpeg')):\n",
    "                    # Augment the image\n",
    "                    augmented_image = augment_image(image_path)\n",
    "                    \n",
    "                    # Save the augmented image in the output folder\n",
    "                    output_image_path = os.path.join(output_path, folder + \"_\" + image_file)\n",
    "                    cv2.imwrite(output_image_path, augmented_image)\n",
    "                    print(f\"Saved: {output_image_path}\")\n",
    "\n",
    "# Example usage\n",
    "dataset_path =\"C:/Users/Prerna/Desktop/Sign_1\"  # The path where your dataset is located\n",
    "output_path = \"C:/Users/Prerna/Desktop/Sign_1_Aug\"  # The path where you want to save augmented images\n",
    "\n",
    "# Uncomment the line below to run the augmentation (this might take some time depending on the dataset size)\n",
    "augment_dataset(dataset_path, output_path)\n",
    "print(f\"Augmented images saved in {output_path}\")\n",
    "\n",
    "\n",
    "# Note: This script will save the augmented images in the specified output folder. Make sure to adjust the paths as needed.\n"
   ]
  },
  {
   "cell_type": "code",
   "execution_count": null,
   "id": "0bf03bd4",
   "metadata": {},
   "outputs": [],
   "source": []
  }
 ],
 "metadata": {
  "kernelspec": {
   "display_name": "Python 3 (ipykernel)",
   "language": "python",
   "name": "python3"
  },
  "language_info": {
   "codemirror_mode": {
    "name": "ipython",
    "version": 3
   },
   "file_extension": ".py",
   "mimetype": "text/x-python",
   "name": "python",
   "nbconvert_exporter": "python",
   "pygments_lexer": "ipython3",
   "version": "3.9.7"
  }
 },
 "nbformat": 4,
 "nbformat_minor": 5
}
